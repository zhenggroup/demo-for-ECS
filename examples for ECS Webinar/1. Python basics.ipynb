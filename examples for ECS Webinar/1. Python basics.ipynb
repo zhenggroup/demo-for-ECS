{
 "cells": [
  {
   "cell_type": "markdown",
   "id": "9f0f4976-e14e-4bd8-822c-ffe48c5ee837",
   "metadata": {},
   "source": [
    "# Python basics\n",
    "## Demo for ECS Webinar"
   ]
  },
  {
   "cell_type": "markdown",
   "id": "46bd83ae-3069-42fe-afd5-a3c5a7124799",
   "metadata": {},
   "source": [
    "## Variables"
   ]
  },
  {
   "cell_type": "code",
   "execution_count": 2,
   "id": "7c9b25e2-eff1-4d9a-808a-6cd8facfe16b",
   "metadata": {},
   "outputs": [],
   "source": [
    "# Variables\n",
    "name = \"David\"  # String\n",
    "age = 30        # Integer\n",
    "height = 5.6    # Float\n",
    "is_student = True  # Boolean"
   ]
  },
  {
   "cell_type": "markdown",
   "id": "4e6b94fb-5f02-4b29-9922-0b50fd12ecbd",
   "metadata": {},
   "source": [
    "## Basic operations"
   ]
  },
  {
   "cell_type": "code",
   "execution_count": 3,
   "id": "4c9d3b17-e2c3-4ef7-adcc-b2e857e58888",
   "metadata": {},
   "outputs": [
    {
     "name": "stdout",
     "output_type": "stream",
     "text": [
      "15 1.6666666666666667 2\n",
      "Welcome to ECS webinar, David\n"
     ]
    }
   ],
   "source": [
    "# Arithmetic\n",
    "sum = 5 + 3\n",
    "difference = 5 - 3\n",
    "product = 5 * 3\n",
    "quotient = 5 / 3\n",
    "remainder = 5 % 3\n",
    "\n",
    "# String concatenation\n",
    "greeting = \"Welcome to ECS webinar, \" + name\n",
    "\n",
    "print(product, quotient, remainder)\n",
    "print(greeting)"
   ]
  },
  {
   "cell_type": "markdown",
   "id": "7fd3cfed-df02-4092-a249-74d89304ad6f",
   "metadata": {},
   "source": [
    "## Functions"
   ]
  },
  {
   "cell_type": "code",
   "execution_count": 4,
   "id": "fa4da31a-7290-45ce-a2ae-0f9d84a82b55",
   "metadata": {},
   "outputs": [
    {
     "name": "stdout",
     "output_type": "stream",
     "text": [
      "Welcome to ECS webinar, Alice!\n"
     ]
    }
   ],
   "source": [
    "def greet(name):\n",
    "    return f\"Welcome to ECS webinar, {name}!\"\n",
    "\n",
    "message = greet(\"Alice\")\n",
    "print(message)"
   ]
  },
  {
   "cell_type": "code",
   "execution_count": null,
   "id": "792c6bed-99e8-4f92-ad71-e8958703243f",
   "metadata": {},
   "outputs": [],
   "source": []
  }
 ],
 "metadata": {
  "kernelspec": {
   "display_name": "Python 3 (ipykernel)",
   "language": "python",
   "name": "python3"
  },
  "language_info": {
   "codemirror_mode": {
    "name": "ipython",
    "version": 3
   },
   "file_extension": ".py",
   "mimetype": "text/x-python",
   "name": "python",
   "nbconvert_exporter": "python",
   "pygments_lexer": "ipython3",
   "version": "3.12.3"
  }
 },
 "nbformat": 4,
 "nbformat_minor": 5
}
